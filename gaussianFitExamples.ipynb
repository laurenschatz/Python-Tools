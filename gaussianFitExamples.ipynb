{
 "cells": [
  {
   "cell_type": "code",
   "execution_count": null,
   "metadata": {},
   "outputs": [],
   "source": [
    "from astropy.io import fits\n",
    "import numpy as np\n",
    "import matplotlib.pyplot as plt\n",
    "import photutils \n",
    "from photutils import DAOStarFinder\n",
    "from astropy.stats import sigma_clipped_stats\n",
    "from photutils import CircularAperture\n",
    "import library as lb"
   ]
  },
  {
   "cell_type": "code",
   "execution_count": null,
   "metadata": {},
   "outputs": [],
   "source": [
    "## crop\n",
    "\n",
    "max_xy = np.where(psData == psData.max())\n",
    "x,y=max_xy[1][0],max_xy[0][0]\n",
    "d=200\n",
    "box=pData[y-d:y+d,x-d:x+d]\n",
    "#plt.imshow(box)\n",
    "\n",
    "## radial profile\n",
    "rPlot=lb.radial_data_median_only(box,1)\n",
    "rFlip=np.flip(rPlot)\n",
    "rFlip=rFlip[0:282]\n",
    "total=np.concatenate((rFlip, rPlot))\n",
    "plt.plot(total)"
   ]
  },
  {
   "cell_type": "code",
   "execution_count": null,
   "metadata": {},
   "outputs": [],
   "source": [
    "## Guassian fit\n",
    "\n",
    "m=np.mean(total[0:100])\n",
    "print(m)\n",
    "total=total-m\n",
    "plt.plot(total, '.')\n",
    "x=np.arange(-282,283,1)\n",
    "from astropy.modeling import models, fitting\n",
    "# Fit the data using a Gaussian\n",
    "g_init = models.Gaussian1D(amplitude=1., mean=0, stddev=1)\n",
    "fit_g = fitting.LevMarLSQFitter()\n",
    "g = fit_g(g_init, x, total)\n",
    "\n",
    "# Plot the data with the best-fit model\n",
    "plt.figure(figsize=(8,5))\n",
    "plt.plot(x, total, 'ko')\n",
    "plt.plot(x, g(x), label='Gaussian')"
   ]
  },
  {
   "cell_type": "code",
   "execution_count": null,
   "metadata": {},
   "outputs": [],
   "source": [
    "g.stddev.value\n",
    "fwhm=2*np.sqrt(2*np.log(2))*37.23\n",
    "print(fwhm)"
   ]
  },
  {
   "cell_type": "code",
   "execution_count": null,
   "metadata": {},
   "outputs": [],
   "source": [
    "### full width half max\n",
    "#2*sqrt(2ln(2)))*sigma\n",
    "gaus=g(x)\n",
    "stdev=np.std(gaus)\n",
    "mu=np.max(gaus)\n",
    "FWHM = 2*np.sqrt(2*np.log(2))*stdev\n",
    "print(FWHM)\n",
    "\n",
    "\n",
    "from pylab import *\n",
    "\n",
    "\n",
    "val=gaus[gaus>=FWHM]\n",
    "y=np.shape(val)\n",
    "\n",
    "plot(x, gaus,lw=3,alpha=.5, color='r')\n",
    "sz=np.shape(x)\n",
    "\n",
    "\n",
    "\n",
    "axvspan(-y[0]/2, y[0]/2, facecolor='g', alpha=0.5)\n",
    "show()"
   ]
  }
 ],
 "metadata": {
  "kernelspec": {
   "display_name": "Python 3",
   "language": "python",
   "name": "python3"
  },
  "language_info": {
   "codemirror_mode": {
    "name": "ipython",
    "version": 3
   },
   "file_extension": ".py",
   "mimetype": "text/x-python",
   "name": "python",
   "nbconvert_exporter": "python",
   "pygments_lexer": "ipython3",
   "version": "3.7.6"
  }
 },
 "nbformat": 4,
 "nbformat_minor": 4
}
