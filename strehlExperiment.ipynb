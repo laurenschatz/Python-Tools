{
 "cells": [
  {
   "cell_type": "code",
   "execution_count": 6,
   "metadata": {},
   "outputs": [],
   "source": [
    "1Q"
   ]
  },
  {
   "cell_type": "code",
   "execution_count": 7,
   "metadata": {},
   "outputs": [],
   "source": [
    "pathToData=\"/data/PWFS/strehlData/imgFrames/\"\n",
    "experimentName=\"strehlExp\""
   ]
  },
  {
   "cell_type": "code",
   "execution_count": 8,
   "metadata": {},
   "outputs": [],
   "source": [
    "siglentAmplitude=0.8\n",
    "siglentFreq=1000\n",
    "#experimentName=\"readNoiseExperiment\"\n",
    "#experimentName=\"darkFrames\"\n",
    "nImages=200\n",
    "loopFreq=200\n",
    "turbAmp=\"0.05 um\"\n",
    "\n",
    "\n",
    "    \n",
    "    "
   ]
  },
  {
   "cell_type": "code",
   "execution_count": 9,
   "metadata": {},
   "outputs": [],
   "source": [
    "#INDI information\n",
    "c=INDIClient('localhost', 7624)\n",
    "c.start()\n",
    "time.sleep(1)\n",
    "#camtipExpTime=c['camtip.exptime.current']\n",
    "zylaExpTime=0.001 \n",
    "sciExpTime=0.0003\n",
    "tipExpTime=0.001\n",
    "c['camtip.exptime.target']=tipExpTime\n",
    "c['camsci.exptime.target']=sciExpTime\n",
    "c['camzyla.exptime.target']=zylaExpTime\n",
    "\n"
   ]
  },
  {
   "cell_type": "code",
   "execution_count": null,
   "metadata": {},
   "outputs": [],
   "source": [
    "\n",
    "###################DARKS#################"
   ]
  },
  {
   "cell_type": "code",
   "execution_count": null,
   "metadata": {},
   "outputs": [],
   "source": [
    "## Camsci\n",
    "#Darks\n",
    "print(\"Taking Darks\")\n",
    "#c['pdu0.laser.target']=\"Off\"\n",
    "\n",
    "with ImageStream(\"camsci\") as shmim:\n",
    "    expTime=np.round(sciExpTime, decimals=5)\n",
    "    print(\"expTime=\"+str(expTime))\n",
    "    c['camsci.exptime.target']=expTime\n",
    "    time.sleep(1)\n",
    "    camsciExpTime=c['camsci.exptime.current']\n",
    "    camsciExpTime=np.round(camsciExpTime,decimals=5)\n",
    "    print(camsciExpTime)\n",
    "    time.sleep(2)\n",
    "    Name=\"darkFrames\"\n",
    "    nameCamsci= pathToData+\"camsci\"+Name+\".fits\"\n",
    "    lb.camsciTaker(nameCamsci,nImages,siglentAmplitude,siglentFreq,camsciExpTime,loopFreq)\n",
    "    \n",
    "    "
   ]
  },
  {
   "cell_type": "markdown",
   "metadata": {},
   "source": [
    "# Camtip\n",
    "print(\"Taking Darks\")\n",
    "#c['pdu0.laser.target']=\"Off\"\n",
    "\n",
    "with ImageStream(\"camtip\") as shmim:\n",
    "    expTime=np.round(tipExpTime, decimals=5)\n",
    "    print(\"expTime=\"+str(expTime))\n",
    "    #c['camtip.exptime.target']=expTime\n",
    "    time.sleep(1)\n",
    "    camtipExpTime=c['camtip.exptime.current']\n",
    "    camtipExpTime=np.round(camtipExpTime,decimals=5)\n",
    "    print(camtipExpTime)\n",
    "    time.sleep(2)\n",
    "    Name=\"darkFrames\"\n",
    "    nameCamtip= pathToData+\"camtip\"+Name+\".fits\"\n",
    "    lb.camtipTaker(nameCamtip,nImages,siglentAmplitude,siglentFreq,camtipExpTime, loopFreq)"
   ]
  },
  {
   "cell_type": "code",
   "execution_count": null,
   "metadata": {},
   "outputs": [],
   "source": [
    "## CamZyla\n",
    "print(\"Taking Darks\")\n",
    "with ImageStream(\"camzyla\") as shmim:\n",
    "    expTime=np.round(zylaExpTime, decimals=5)\n",
    "    print(\"expTime=\"+str(expTime))\n",
    "    #c['camzyla.exptime.target']=expTime\n",
    "    time.sleep(1)\n",
    "    camzylaExpTime=c['camzyla.exptime.current']\n",
    "    camzylaExpTime=np.round(camzylaExpTime,decimals=6)\n",
    "    camzylaFrameRate=c['camzyla.fps.current']\n",
    "    camzylaROIsize=c['camzyla.fg_frameSize.width']\n",
    "    print(camzylaExpTime)\n",
    "    time.sleep(2)\n",
    "    Name=\"darkFrames\"\n",
    "    nameCamzyla= pathToData+\"camzyla\"+Name+\".fits\"\n",
    "    lb.camzylaTaker(nameCamzyla,nImages,siglentAmplitude,siglentFreq,camzylaExpTime,camzylaFrameRate,camzylaROIsize, loopFreq)\n",
    "        "
   ]
  },
  {
   "cell_type": "code",
   "execution_count": 23,
   "metadata": {},
   "outputs": [
    {
     "name": "stdout",
     "output_type": "stream",
     "text": [
      "Taking Gain0.1\n",
      "Taking Data\n",
      "Taking Camsci  Data\n",
      "0.0003\n"
     ]
    },
    {
     "name": "stderr",
     "output_type": "stream",
     "text": [
      "INFO:utils:Got semaphore index 4.\n"
     ]
    },
    {
     "name": "stdout",
     "output_type": "stream",
     "text": [
      "Finished camsci\n",
      "Taking Gain0.2\n",
      "Taking Data\n",
      "Taking Camsci  Data\n",
      "0.0003\n",
      "Finished camsci\n",
      "Taking Gain0.3\n",
      "Taking Data\n",
      "Taking Camsci  Data\n",
      "0.0003\n",
      "Finished camsci\n",
      "Taking Gain0.4\n",
      "Taking Data\n",
      "Taking Camsci  Data\n",
      "0.0003\n",
      "Finished camsci\n",
      "Taking Gain0.5\n",
      "Taking Data\n",
      "Taking Camsci  Data\n",
      "0.0003\n",
      "Finished camsci\n",
      "Taking Gain0.6\n",
      "Taking Data\n",
      "Taking Camsci  Data\n",
      "0.0003\n",
      "Finished camsci\n",
      "Taking Gain0.7\n",
      "Taking Data\n",
      "Taking Camsci  Data\n",
      "0.0003\n",
      "Finished camsci\n",
      "Taking Gain0.8\n",
      "Taking Data\n",
      "Taking Camsci  Data\n",
      "0.0003\n",
      "Finished camsci\n",
      "Taking Gain0.9\n",
      "Taking Data\n",
      "Taking Camsci  Data\n",
      "0.0003\n",
      "Finished camsci\n",
      "Taking Gain1.0\n",
      "Taking Data\n",
      "Taking Camsci  Data\n",
      "0.0003\n",
      "Finished camsci\n",
      "Taking Gain1.1\n",
      "Taking Data\n",
      "Taking Camsci  Data\n",
      "0.0003\n",
      "Finished camsci\n",
      "Taking Gain1.2\n",
      "Taking Data\n",
      "Taking Camsci  Data\n",
      "0.0003\n",
      "Finished camsci\n",
      "Taking Gain1.3\n",
      "Taking Data\n",
      "Taking Camsci  Data\n",
      "0.0003\n",
      "Finished camsci\n",
      "Taking Gain1.4\n",
      "Taking Data\n",
      "Taking Camsci  Data\n",
      "0.0003\n",
      "Finished camsci\n",
      "Taking Gain1.5\n",
      "Taking Data\n",
      "Taking Camsci  Data\n",
      "0.0003\n",
      "Finished camsci\n",
      "Taking Gain1.6\n",
      "Taking Data\n",
      "Taking Camsci  Data\n",
      "0.0003\n",
      "Finished camsci\n",
      "Taking Gain1.7\n",
      "Taking Data\n",
      "Taking Camsci  Data\n",
      "0.0003\n",
      "Finished camsci\n",
      "Taking Gain1.8\n",
      "Taking Data\n",
      "Taking Camsci  Data\n",
      "0.0003\n",
      "Finished camsci\n",
      "finished\n"
     ]
    }
   ],
   "source": [
    "################ DATA ################\n",
    "with ImageStream(\"camsci\") as shmim:\n",
    "    for gain in np.arange(0.1,1.9,0.1):\n",
    "        gain=np.round(gain,decimals=2)\n",
    "        string1= 'echo \"'+str(gain)+'\" > /opt/MagAOX/cacao/working/kilo/conf/param_loopgain.txt'\n",
    "        string2= 'tmux send-keys -t aol0-ctr \"aolsetgain '+str(gain)+'\" C-m'\n",
    "        os.system(string1)\n",
    "        os.system(string2)\n",
    "        print(\"Taking Gain\"+str(gain))\n",
    "        time.sleep(5)\n",
    "    \n",
    "        print(\"Taking Data\")\n",
    "        print(\"Taking Camsci  Data\")\n",
    "        \n",
    "        camsciExpTime=c['camsci.exptime.current']\n",
    "        camsciExpTime=np.round(camsciExpTime,decimals=5)\n",
    "        print(camsciExpTime)\n",
    "        time.sleep(2)\n",
    "        nameCamsci= pathToData+\"camsci\"+experimentName+\"Gain\"+str(gain)+\".fits\"\n",
    "        lb.camsciTaker(nameCamsci,shmim, nImages,siglentAmplitude,siglentFreq,camsciExpTime, loopFreq,gain, turbAmp)\n",
    "        \n",
    "print(\"finished\")"
   ]
  },
  {
   "cell_type": "code",
   "execution_count": 24,
   "metadata": {},
   "outputs": [
    {
     "name": "stdout",
     "output_type": "stream",
     "text": [
      "Takin Camtip Data\n",
      "Taking Gain0.1\n",
      "0.001\n"
     ]
    },
    {
     "name": "stderr",
     "output_type": "stream",
     "text": [
      "INFO:utils:Got semaphore index 4.\n"
     ]
    },
    {
     "name": "stdout",
     "output_type": "stream",
     "text": [
      "Finished camtip\n",
      "Taking Gain0.2\n",
      "0.001\n",
      "Finished camtip\n",
      "Taking Gain0.3\n",
      "0.001\n",
      "Finished camtip\n",
      "Taking Gain0.4\n",
      "0.001\n",
      "Finished camtip\n",
      "Taking Gain0.5\n",
      "0.001\n",
      "Finished camtip\n",
      "Taking Gain0.6\n",
      "0.001\n",
      "Finished camtip\n",
      "Taking Gain0.7\n",
      "0.001\n",
      "Finished camtip\n",
      "Taking Gain0.8\n",
      "0.001\n",
      "Finished camtip\n",
      "Taking Gain0.9\n",
      "0.001\n",
      "Finished camtip\n",
      "Taking Gain1.0\n",
      "0.001\n",
      "Finished camtip\n",
      "Taking Gain1.1\n",
      "0.001\n",
      "Finished camtip\n",
      "Taking Gain1.2\n",
      "0.001\n",
      "Finished camtip\n",
      "Taking Gain1.3\n",
      "0.001\n",
      "Finished camtip\n",
      "Taking Gain1.4\n",
      "0.001\n",
      "Finished camtip\n",
      "Taking Gain1.5\n",
      "0.001\n",
      "Finished camtip\n",
      "Taking Gain1.6\n",
      "0.001\n",
      "Finished camtip\n",
      "Taking Gain1.7\n",
      "0.001\n",
      "Finished camtip\n",
      "Taking Gain1.8\n",
      "0.001\n",
      "Finished camtip\n",
      "finished\n"
     ]
    }
   ],
   "source": [
    "print(\"Takin Camtip Data\")\n",
    "with ImageStream(\"camtip\") as shmim:  \n",
    "    for gain in np.arange(0.1,1.9,0.1):\n",
    "        gain=np.round(gain,decimals=2)\n",
    "        string1= 'echo \"'+str(gain)+'\" > /opt/MagAOX/cacao/working/kilo/conf/param_loopgain.txt'\n",
    "        string2= 'tmux send-keys -t aol0-ctr \"aolsetgain '+str(gain)+'\" C-m'\n",
    "        os.system(string1)\n",
    "        os.system(string2)\n",
    "        print(\"Taking Gain\"+str(gain))\n",
    "        time.sleep(5)\n",
    "        camtipExpTime=c['camtip.exptime.current']\n",
    "        camtipExpTime=np.round(camtipExpTime,decimals=5)\n",
    "        print(camtipExpTime)\n",
    "        time.sleep(2)\n",
    "        nameCamtip= pathToData+\"camtip\"+experimentName+\"Gain\"+str(gain)+\".fits\"\n",
    "        lb.camtipTaker(nameCamtip,shmim, nImages,siglentAmplitude,siglentFreq,camtipExpTime, loopFreq, gain, turbAmp)\n",
    "print(\"finished\")"
   ]
  },
  {
   "cell_type": "code",
   "execution_count": 25,
   "metadata": {},
   "outputs": [
    {
     "name": "stdout",
     "output_type": "stream",
     "text": [
      "Taking Zyla Data\n",
      "Taking Gain0.1\n",
      "0.001\n"
     ]
    },
    {
     "name": "stderr",
     "output_type": "stream",
     "text": [
      "INFO:utils:Got semaphore index 0.\n"
     ]
    },
    {
     "name": "stdout",
     "output_type": "stream",
     "text": [
      "finished camzyla\n",
      "Taking Gain0.2\n",
      "0.001\n",
      "finished camzyla\n",
      "Taking Gain0.3\n",
      "0.001\n",
      "finished camzyla\n",
      "Taking Gain0.4\n",
      "0.001\n",
      "finished camzyla\n",
      "Taking Gain0.5\n",
      "0.001\n",
      "finished camzyla\n",
      "Taking Gain0.6\n",
      "0.001\n",
      "finished camzyla\n",
      "Taking Gain0.7\n",
      "0.001\n",
      "finished camzyla\n",
      "Taking Gain0.8\n",
      "0.001\n",
      "finished camzyla\n",
      "Taking Gain0.9\n",
      "0.001\n",
      "finished camzyla\n",
      "Taking Gain1.0\n",
      "0.001\n",
      "finished camzyla\n",
      "Taking Gain1.1\n",
      "0.001\n",
      "finished camzyla\n",
      "Taking Gain1.2\n",
      "0.001\n",
      "finished camzyla\n",
      "Taking Gain1.3\n",
      "0.001\n",
      "finished camzyla\n",
      "Taking Gain1.4\n",
      "0.001\n",
      "finished camzyla\n",
      "Taking Gain1.5\n",
      "0.001\n",
      "finished camzyla\n",
      "Taking Gain1.6\n",
      "0.001\n",
      "finished camzyla\n",
      "Taking Gain1.7\n",
      "0.001\n",
      "finished camzyla\n",
      "Taking Gain1.8\n",
      "0.001\n",
      "finished camzyla\n",
      "finished\n"
     ]
    }
   ],
   "source": [
    "      \n",
    "print(\"Taking Zyla Data\")\n",
    "with ImageStream(\"camzyla\") as shmim:\n",
    "    for gain in np.arange(0.1,1.9,0.1):\n",
    "        gain=np.round(gain,decimals=2)\n",
    "        string1= 'echo \"'+str(gain)+'\" > /opt/MagAOX/cacao/working/kilo/conf/param_loopgain.txt'\n",
    "        string2= 'tmux send-keys -t aol0-ctr \"aolsetgain '+str(gain)+'\" C-m'\n",
    "        os.system(string1)\n",
    "        os.system(string2)\n",
    "        print(\"Taking Gain\"+str(gain))\n",
    "        time.sleep(5)\n",
    "        camzylaExpTime=c['camzyla.exptime.current']\n",
    "        camzylaExpTime=np.round(camzylaExpTime,decimals=6)\n",
    "        camzylaFrameRate=c['camzyla.fps.current']\n",
    "        camzylaROIsize=c['camzyla.fg_frameSize.width']\n",
    "        print(camzylaExpTime)\n",
    "        time.sleep(2)\n",
    "        nameCamzyla= pathToData+\"camzyla\"+experimentName+\"Gain\"+str(gain)+\".fits\"\n",
    "        lb.camzylaTaker(nameCamzyla,shmim, nImages,siglentAmplitude,siglentFreq,camzylaExpTime,camzylaFrameRate,camzylaROIsize, loopFreq, gain, turbAmp)\n",
    "\n",
    "print(\"finished\")"
   ]
  },
  {
   "cell_type": "code",
   "execution_count": null,
   "metadata": {},
   "outputs": [],
   "source": []
  },
  {
   "cell_type": "code",
   "execution_count": null,
   "metadata": {},
   "outputs": [],
   "source": []
  },
  {
   "cell_type": "code",
   "execution_count": 20,
   "metadata": {},
   "outputs": [
    {
     "name": "stdout",
     "output_type": "stream",
     "text": [
      "tmux send-keys -t aol0-ctr \"aolsetgain 1\" C-m\n"
     ]
    },
    {
     "data": {
      "text/plain": [
       "0"
      ]
     },
     "execution_count": 20,
     "metadata": {},
     "output_type": "execute_result"
    }
   ],
   "source": [
    "gain=1\n",
    "string1= 'echo \"'+str(gain)+'\" > /opt/MagAOX/cacao/working/kilo/conf/param_loopgain.txt'\n",
    "string2= 'tmux send-keys -t aol0-ctr \"aolsetgain '+str(gain)+'\" C-m'\n",
    "\n",
    "print(string2)\n",
    "os.system(string1)\n",
    "os.system(string2)"
   ]
  },
  {
   "cell_type": "code",
   "execution_count": null,
   "metadata": {},
   "outputs": [],
   "source": []
  }
 ],
 "metadata": {
  "kernelspec": {
   "display_name": "Python 3",
   "language": "python",
   "name": "python3"
  },
  "language_info": {
   "codemirror_mode": {
    "name": "ipython",
    "version": 3
   },
   "file_extension": ".py",
   "mimetype": "text/x-python",
   "name": "python",
   "nbconvert_exporter": "python",
   "pygments_lexer": "ipython3",
   "version": "3.7.6"
  }
 },
 "nbformat": 4,
 "nbformat_minor": 4
}
