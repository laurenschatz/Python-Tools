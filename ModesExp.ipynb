{
 "cells": [
  {
   "cell_type": "code",
   "execution_count": 3,
   "metadata": {},
   "outputs": [],
   "source": [
    "###### MODAL Basis EXPERIMENT ###########\n",
    "from astropy.io import fits\n",
    "import numpy as np\n",
    "from magpyx.utils import ImageStream\n",
    "from magpyx.utils import send_shmim_to_fits, send_fits_to_shmim\n",
    "import matplotlib.pyplot as plt\n",
    "from datetime import datetime\n",
    "import time\n",
    "from purepyindi.client import INDIClient\n",
    "import library as lb\n",
    "import os"
   ]
  },
  {
   "cell_type": "code",
   "execution_count": null,
   "metadata": {},
   "outputs": [],
   "source": []
  },
  {
   "cell_type": "code",
   "execution_count": 4,
   "metadata": {},
   "outputs": [],
   "source": [
    "siglentAmplitude=0.8\n",
    "siglentFreq=1000\n",
    "experimentName=\"modeExperiment\"\n",
    "#experimentName=\"darkFrames\"\n",
    "nImages=500\n",
    "nModes=300\n",
    "nAmps=0.1"
   ]
  },
  {
   "cell_type": "code",
   "execution_count": 9,
   "metadata": {},
   "outputs": [],
   "source": [
    "pathToModes='/Users/laurenschatz/Documents/exao0Pull/Scripts/CUBE_SlepianModes_32x32_1_scaled32.fits'\n",
    "fModes=fits.open(pathToModes)\n",
    "pathToData='/Users/laurenschatz/Documents/exao0Pull/Scripts/'\n",
    "pathToFlats=''\n",
    "pathToDarks=''"
   ]
  },
  {
   "cell_type": "code",
   "execution_count": 16,
   "metadata": {},
   "outputs": [
    {
     "name": "stdout",
     "output_type": "stream",
     "text": [
      "Filename: /Users/laurenschatz/Documents/exao0Pull/Scripts/CUBE_SlepianModes_32x32_1_scaled32.fits\n",
      "No.    Name      Ver    Type      Cards   Dimensions   Format\n",
      "  0  PRIMARY       1 PrimaryHDU       9   (32, 32, 1024)   float64   \n",
      "(1024, 32, 32)\n"
     ]
    },
    {
     "data": {
      "image/png": "[encoded data removed]",
      "text/plain": [
       "<Figure size 432x288 with 1 Axes>"
      ]
     },
     "metadata": {
      "needs_background": "light"
     },
     "output_type": "display_data"
    }
   ],
   "source": [
    "fModes.info()\n",
    "mode=fModes[0].data\n",
    "print(np.shape(mode))\n",
    "plt.imshow(mode[1,:,:])\n",
    "\n",
    "h=fModes[0].header\n",
    "a=h['NAXIS3']"
   ]
  },
  {
   "cell_type": "code",
   "execution_count": 14,
   "metadata": {},
   "outputs": [
    {
     "name": "stdout",
     "output_type": "stream",
     "text": [
      "1024\n"
     ]
    }
   ],
   "source": [
    "#INDI information\n",
    "c=INDIClient('localhost', 7624)\n",
    "c.start()\n",
    "time.sleep(1)\n",
    "#camtipExpTime=c['camtip.exptime.current']\n",
    "zylaExpTime=0.001\n",
    "sciExpTime=0.0003\n",
    "tipExpTime=0.001\n",
    "c['camtip.exptime.target']=tipExpTime\n",
    "c['camsci.exptime.target']=sciExpTime\n",
    "c['camzyla.exptime.target']=zylaExpTime"
   ]
  },
  {
   "cell_type": "code",
   "execution_count": null,
   "metadata": {},
   "outputs": [],
   "source": [
    "camsci=ImageStream(\"camsci\")\n",
    "camtip=ImageStream(\"camtip\")\n",
    "camzyla=ImageStream(\"camzyla\")\n",
    "dm=ImageStream(\"dm00disp03\")\n"
   ]
  },
  {
   "cell_type": "code",
   "execution_count": null,
   "metadata": {},
   "outputs": [],
   "source": [
    "##### TAKE DARKS ########\n",
    "\n",
    "c['pdu0.laser.target']=\"Off\"\n",
    "\n",
    "nameZyla= pathToDarks+\"camzylaDarkFrames.fits\"\n",
    "nameCamsci= pathToDarks+\"camsciDarkFrames.fits\"\n",
    "\n",
    "## Zyla -------------------------------------------\n",
    "if nImages==1:\n",
    "    zyladata=camzyla.grab_latest()\n",
    "else:\n",
    "    zyladata=np.squeeze(camzyla.grab_many(nImages))\n",
    "    # Get INDI data        \n",
    "\n",
    "zyladark=zyladata.mean(axis=0)\n",
    "   #Generate Headers     \n",
    "y=fits.PrimaryHDU(zyladark)\n",
    "y.header['ExpTime']=camzylaExpTime\n",
    "y.header['TStamp']=dateStr\n",
    "y.header['ModAmp']=siglentAmplitude\n",
    "y.header['ModFreq']=siglentFreq\n",
    "y.header['FPS']=camzylaFrameRate\n",
    "y.header['ROIsize']=camzylaROIsize\n",
    "y.header['ExpName']=experimentName\n",
    "     \n",
    "  #write file      \n",
    "y.writeto(nameZyla)\n",
    "time.sleep(2)\n",
    "print('Finished camzyla')\n",
    "        \n",
    "## Camsci ----------------------------------------------\n",
    "if nImages==1:\n",
    "    scidata=camsci.grab_latest()\n",
    "else:\n",
    "    scidata=np.squeeze(camsci.grab_many(nImages))\n",
    "    # Get INDI data        \n",
    "scidark=scidata.mean(axis=0)\n",
    "   #Generate Headers \n",
    "    \n",
    "x=fits.PrimaryHDU(scidark)\n",
    "x.header['ExpTime']=camsciExpTime\n",
    "x.header['TStamp']=dateStr\n",
    "x.header['ModAmp']=siglentAmplitude\n",
    "x.header['ModFreq']=siglentFreq\n",
    "x.header['ExpName']=experimentName\n",
    "     \n",
    "  #write file      \n",
    "x.writeto(nameCamsci)\n",
    "time.sleep(2)\n",
    "print('Finished camsci')\n",
    "\n",
    "c['pdu0.laser.target']=\"On\"\n",
    "time.sleep(5)\n",
    "       "
   ]
  },
  {
   "cell_type": "code",
   "execution_count": null,
   "metadata": {},
   "outputs": [],
   "source": [
    "##################### FLATS ############################\n",
    "\n",
    "nameZyla= pathToFlats+\"camzylaFlatFrames.fits\"\n",
    "nameCamsci= pathToFlats+\"camsciFlatFrames.fits\"\n",
    "\n",
    "## Zyla -------------------------------------------\n",
    "if nImages==1:\n",
    "    zyladata=camzyla.grab_latest()\n",
    "else:\n",
    "    zyladata=np.squeeze(camzyla.grab_many(nImages))\n",
    "    # Get INDI data        \n",
    "\n",
    "zyladark=zyladata.mean(axis=0)\n",
    "   #Generate Headers     \n",
    "y=fits.PrimaryHDU(zyladark)\n",
    "y.header['ExpTime']=camzylaExpTime\n",
    "y.header['TStamp']=dateStr\n",
    "y.header['ModAmp']=siglentAmplitude\n",
    "y.header['ModFreq']=siglentFreq\n",
    "y.header['FPS']=camzylaFrameRate\n",
    "y.header['ROIsize']=camzylaROIsize\n",
    "y.header['ExpName']=experimentName\n",
    "     \n",
    "  #write file      \n",
    "y.writeto(nameZyla)\n",
    "time.sleep(2)\n",
    "print('Finished camzyla')\n",
    "        \n",
    "## Camsci ----------------------------------------------\n",
    "if nImages==1:\n",
    "    scidata=camsci.grab_latest()\n",
    "else:\n",
    "    scidata=np.squeeze(camsci.grab_many(nImages))\n",
    "    # Get INDI data        \n",
    "scidark=scidata.mean(axis=0)\n",
    "   #Generate Headers \n",
    "    \n",
    "x=fits.PrimaryHDU(scidark)\n",
    "x.header['ExpTime']=camsciExpTime\n",
    "x.header['TStamp']=dateStr\n",
    "x.header['ModAmp']=siglentAmplitude\n",
    "x.header['ModFreq']=siglentFreq\n",
    "x.header['ExpName']=experimentName\n",
    "     \n",
    "  #write file      \n",
    "x.writeto(nameCamsci)\n",
    "time.sleep(2)\n",
    "print('Finished camsci')\n"
   ]
  },
  {
   "cell_type": "code",
   "execution_count": null,
   "metadata": {},
   "outputs": [],
   "source": [
    "\n",
    "for i in range(nModes):\n",
    "    nameZyla= pathToData+\"camzyla\"+experimentName+\"Mode\"+str(i)+\"AmpNum\"+str(nAmps)+\".fits\"\n",
    "    nameCamsci= pathToData+\"camsci\"+experimentName+\"Mode\"+str(i)+\"AmpNum\"+str(nAmps)+\".fits\"   \n",
    "    #send DM commands\n",
    "    dmCom=mode[i,:,:]*nAmps\n",
    "    dm.write(dmCom.astype(dm.buffer.dtype))  \n",
    "    time.sleep(5)\n",
    "    print(\"Amp=\" , nAmps)\n",
    "    print(\"Mode=\",i)\n",
    "    #Take data and save it\n",
    "## Zyla -------------------------------------------\n",
    "    if nImages==1:\n",
    "        zyladata=camzyla.grab_latest()\n",
    "    else:\n",
    "        zyladata=np.squeeze(camzyla.grab_many(nImages))\n",
    "    # Get INDI data        \n",
    "    zylaMode=zyladata.mean(axis=0)\n",
    "   #Generate Headers     \n",
    "    y=fits.PrimaryHDU(zylaMode)\n",
    "    y.header['ExpTime']=camzylaExpTime\n",
    "    y.header['TStamp']=dateStr\n",
    "    y.header['ModAmp']=siglentAmplitude\n",
    "    y.header['ModFreq']=siglentFreq\n",
    "    y.header['FPS']=camzylaFrameRate\n",
    "    y.header['ROIsize']=camzylaROIsize\n",
    "    y.header['nMode']=i\n",
    "    y.header['modeAmp']=nAmps\n",
    "    y.header['ExpName']=experimentName\n",
    "     \n",
    "  #write file      \n",
    "    y.writeto(nameZyla)\n",
    "    time.sleep(2)\n",
    "    print('Finished camzyla')\n",
    "    \n",
    "## Camsci ----------------------------------------------\n",
    "        if nImages==1:\n",
    "            scidata=camsci.grab_latest()\n",
    "        else:\n",
    "            scidata=np.squeeze(camsci.grab_many(nImages))\n",
    "    # Get INDI data        \n",
    "        sciMode=scidata.mean(axis=0)\n",
    "   #Generate Headers     \n",
    "        y=fits.PrimaryHDU(sciMode)\n",
    "        y.header['ExpTime']=camsciExpTime\n",
    "        y.header['TStamp']=dateStr\n",
    "        y.header['ModAmp']=siglentAmplitude\n",
    "        y.header['ModFreq']=siglentFreq\n",
    "        y.header['nMode']= i\n",
    "        y.header['modeAmp']=nAmps\n",
    "        y.header['ExpName']=experimentName\n",
    "     \n",
    "  #write file      \n",
    "        y.writeto(nameCamsci)\n",
    "        time.sleep(2)\n",
    "        print('Finished camsci')\n",
    "        \n",
    "print(\"finished experiment\")"
   ]
  }
 ],
 "metadata": {
  "kernelspec": {
   "display_name": "Python 3",
   "language": "python",
   "name": "python3"
  },
  "language_info": {
   "codemirror_mode": {
    "name": "ipython",
    "version": 3
   },
   "file_extension": ".py",
   "mimetype": "text/x-python",
   "name": "python",
   "nbconvert_exporter": "python",
   "pygments_lexer": "ipython3",
   "version": "3.7.6"
  }
 },
 "nbformat": 4,
 "nbformat_minor": 4
}
