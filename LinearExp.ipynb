{
 "cells": [
  {
   "cell_type": "code",
   "execution_count": 12,
   "metadata": {},
   "outputs": [],
   "source": [
    "from astropy.io import fits\n",
    "import numpy as np\n",
    "from magpyx.utils import ImageStream\n",
    "from magpyx.utils import send_shmim_to_fits, send_fits_to_shmim\n",
    "import matplotlib.pyplot as plt\n",
    "from datetime import datetime\n",
    "import time\n",
    "from purepyindi.client import INDIClient"
   ]
  },
  {
   "cell_type": "code",
   "execution_count": 104,
   "metadata": {},
   "outputs": [],
   "source": [
    "\n",
    "pathToModes='/data/PWFS/strehlData/cacaoCalib/DMmodes_2020-10-05_19:34:36.fits'\n",
    "fModes=fits.open(pathToModes)\n",
    "pathToData='/data/PWFS/linearExp/imgFrames/'\n",
    "pathToDarks='/data/PWFS/linearExp/Darks/'\n",
    "pathToFlats='/data/PWFS/linearExp/Flats/'"
   ]
  },
  {
   "cell_type": "code",
   "execution_count": null,
   "metadata": {},
   "outputs": [],
   "source": []
  },
  {
   "cell_type": "code",
   "execution_count": 14,
   "metadata": {},
   "outputs": [
    {
     "name": "stdout",
     "output_type": "stream",
     "text": [
      "Filename: /data/PWFS/strehlData/cacaoCalib/DMmodes_2020-10-05_19:34:36.fits\n",
      "No.    Name      Ver    Type      Cards   Dimensions   Format\n",
      "  0  PRIMARY       1 PrimaryHDU       9   (32, 32, 509)   float32   \n",
      "(509, 32, 32)\n"
     ]
    },
    {
     "data": {
      "image/png": "[encoded data removed]",
      "text/plain": [
       "<Figure size 432x288 with 1 Axes>"
      ]
     },
     "metadata": {
      "needs_background": "light"
     },
     "output_type": "display_data"
    }
   ],
   "source": [
    "### Pull modes out out\n",
    "fModes.info()\n",
    "mode=fModes[0].data\n",
    "print(np.shape(mode))\n",
    "plt.imshow(mode[1,:,:])\n",
    "\n",
    "h=fModes[0].header\n",
    "a=h['NAXIS3']"
   ]
  },
  {
   "cell_type": "code",
   "execution_count": 15,
   "metadata": {},
   "outputs": [],
   "source": [
    "## CONFIGS\n",
    "shmim_name=\"dm00disp03\"\n",
    "nImages=300\n",
    "experimentName=\"LinearExp\"\n",
    "#nModes=a\n",
    "nModes=10 # number of modes to scan through for the linearity test.\n",
    "\n",
    "nAmps=np.arange(-0.0001, 0.1, 0.005) # amplitudes of the mode applied to the dm in microns.\n",
    "vNorm=1/0.519 #volume normalization factor for the DM to get the correct amplitude of poke.\n",
    "\n",
    "nAmps=nAmps*vNorm"
   ]
  },
  {
   "cell_type": "code",
   "execution_count": 17,
   "metadata": {},
   "outputs": [],
   "source": [
    "##### GENERATE FITS HEADERS\n",
    "\n",
    "#For Every saved file:\n",
    "now=datetime.now()\n",
    "dateStr=now.strftime(\"_%m-%d-%Y_%H:%M:%S_\")\n",
    "siglentAmplitude=0.8\n",
    "siglentFreq=1000\n",
    "\n",
    "\n",
    "\n",
    "#INDI information\n",
    "c=INDIClient('localhost', 7624)\n",
    "c.start()\n",
    "\n",
    "time.sleep(5)"
   ]
  },
  {
   "cell_type": "code",
   "execution_count": 18,
   "metadata": {},
   "outputs": [],
   "source": [
    "#INDI information\n",
    "c=INDIClient('localhost', 7624)\n",
    "c.start()\n",
    "time.sleep(1)\n",
    "#camtipExpTime=c['camtip.exptime.current']\n",
    "zylaExpTime=0.001\n",
    "sciExpTime=0.0003\n",
    "tipExpTime=0.01\n",
    "c['camtip.exptime.target']=tipExpTime\n",
    "c['camsci.exptime.target']=sciExpTime\n",
    "c['camzyla.exptime.target']=zylaExpTime"
   ]
  },
  {
   "cell_type": "code",
   "execution_count": 19,
   "metadata": {},
   "outputs": [],
   "source": [
    "       \n",
    "# Time stamp\n",
    "now=datetime.now()\n",
    "dateStr=now.strftime(\"_%m-%d-%Y_%H:%M:%S_\")\n",
    "        \n",
    "\n",
    "#zyla\n",
    "camzylaExpTime=c['camzyla.exptime.current']\n",
    "camzylaFrameRate=c['camzyla.fps.current']\n",
    "camzylaROIsize=c['camzyla.fg_frameSize.width']\n",
    "\n",
    "#camsci\n",
    "camsciExpTime=c['camsci.exptime.current']\n",
    "#camtip\n",
    "camtipExpTime=c['camtip.exptime.current']"
   ]
  },
  {
   "cell_type": "code",
   "execution_count": 20,
   "metadata": {},
   "outputs": [],
   "source": [
    "camsci=ImageStream(\"camsci\")\n",
    "camtip=ImageStream(\"camtip\")\n",
    "camzyla=ImageStream(\"camzyla\")\n",
    "dm=ImageStream(\"dm00disp03\")\n",
    "\n"
   ]
  },
  {
   "cell_type": "code",
   "execution_count": 105,
   "metadata": {},
   "outputs": [
    {
     "name": "stdout",
     "output_type": "stream",
     "text": [
      "Finished camzyla\n",
      "Finished camsci\n"
     ]
    }
   ],
   "source": [
    "##### TAKE DARKS ########\n",
    "\n",
    "nameZyla= pathToFlats+\"camzylaFlatFrames.fits\"\n",
    "nameCamsci= pathToFlats+\"camsciFlatFrames.fits\"\n",
    "nameCamtip= pathToFlats+\"camtipFlatFrames.fits\"\n",
    "\n",
    "## Zyla -------------------------------------------\n",
    "if nImages==1:\n",
    "    zyladata=camzyla.grab_latest()\n",
    "else:\n",
    "    zyladata=np.squeeze(camzyla.grab_many(nImages))\n",
    "    # Get INDI data        \n",
    "\n",
    "   #Generate Headers     \n",
    "y=fits.PrimaryHDU(zyladata)\n",
    "y.header['ExpTime']=camzylaExpTime\n",
    "y.header['TStamp']=dateStr\n",
    "y.header['ModAmp']=siglentAmplitude\n",
    "y.header['ModFreq']=siglentFreq\n",
    "y.header['FPS']=camzylaFrameRate\n",
    "y.header['ROIsize']=camzylaROIsize\n",
    "y.header['nMode']= nModes\n",
    "y.header['ExpName']=experimentName\n",
    "     \n",
    "  #write file      \n",
    "y.writeto(nameZyla)\n",
    "time.sleep(2)\n",
    "print('Finished camzyla')\n",
    "        \n",
    "## Camsci ----------------------------------------------\n",
    "if nImages==1:\n",
    "    scidata=camsci.grab_latest()\n",
    "else:\n",
    "    scidata=np.squeeze(camsci.grab_many(nImages))\n",
    "    # Get INDI data        \n",
    "\n",
    "   #Generate Headers     \n",
    "x=fits.PrimaryHDU(scidata)\n",
    "x.header['ExpTime']=camsciExpTime\n",
    "x.header['TStamp']=dateStr\n",
    "x.header['ModAmp']=siglentAmplitude\n",
    "x.header['ModFreq']=siglentFreq\n",
    "x.header['nMode']= nModes\n",
    "x.header['ExpName']=experimentName\n",
    "     \n",
    "  #write file      \n",
    "x.writeto(nameCamsci)\n",
    "time.sleep(2)\n",
    "print('Finished camsci')\n",
    "       "
   ]
  },
  {
   "cell_type": "code",
   "execution_count": 106,
   "metadata": {},
   "outputs": [
    {
     "name": "stdout",
     "output_type": "stream",
     "text": [
      "Finished camtip\n"
     ]
    }
   ],
   "source": [
    " \n",
    "## Camtip ----------------------------------------------\n",
    "if nImages==1:\n",
    "    tipdata=camtip.grab_latest()\n",
    "else:\n",
    "    tipdata=np.squeeze(camtip.grab_many(nImages))\n",
    "    # Get INDI data        \n",
    "\n",
    "   #Generate Headers     \n",
    "z=fits.PrimaryHDU(tipdata)\n",
    "z.header['ExpTime']=camtipExpTime\n",
    "z.header['TStamp']=dateStr\n",
    "z.header['ModAmp']=siglentAmplitude\n",
    "z.header['ModFreq']=siglentFreq\n",
    "z.header['nMode']= nModes\n",
    "z.header['ExpName']=experimentName\n",
    "     \n",
    "  #write file      \n",
    "z.writeto(nameCamtip)\n",
    "time.sleep(2)\n",
    "print('Finished camtip')"
   ]
  },
  {
   "cell_type": "code",
   "execution_count": null,
   "metadata": {},
   "outputs": [],
   "source": []
  },
  {
   "cell_type": "code",
   "execution_count": 102,
   "metadata": {},
   "outputs": [
    {
     "name": "stdout",
     "output_type": "stream",
     "text": [
      "(16,)\n",
      "[-1.92678227e-04 -9.63391137e-04 -1.92678227e-03 -9.63391137e-03\n",
      " -1.92678227e-02 -9.63391137e-02 -1.92678227e-01 -9.63391137e-01\n",
      "  9.63391137e-01  1.92678227e-01  9.63391137e-02  1.92678227e-02\n",
      "  9.63391137e-03  1.92678227e-03  9.63391137e-04  1.92678227e-04]\n",
      "0\n",
      "1\n",
      "2\n",
      "3\n",
      "4\n",
      "5\n"
     ]
    }
   ],
   "source": [
    "nAmps=np.array([-0.0001, -0.0005, -0.001, -0.005, -0.01, -0.05, -0.1,-0.5, 0.5, 0.1, 0.05, 0.01, 0.005, 0.001, 0.0005, 0.0001]) # amplitudes of the mode applied to the dm in microns.\n",
    "nPoke=nAmps;\n",
    "\n",
    "vNorm=1/0.519 #volume normalization factor for the DM to get the correct amplitude of poke.\n",
    " #Get rid of 0's in nAmps\n",
    "nAmps=nAmps*vNorm\n",
    "#nAmps=np.round(nAmps, decimals=3)\n",
    "nAmps=nAmps[nAmps !=0]\n",
    "sz=np.shape(nAmps)\n",
    "print(sz)\n",
    "print(nAmps)\n",
    "nModes=6\n",
    "\n",
    "for i in range(nModes):\n",
    "    print(i)\n",
    "\n"
   ]
  },
  {
   "cell_type": "code",
   "execution_count": null,
   "metadata": {},
   "outputs": [],
   "source": [
    "for i in range(nModes):\n",
    "    for j in range(sz[0]):\n",
    "        nameZyla= pathToData+\"camzyla\"+experimentName+\"Mode\"+str(i)+\"AmpNum\"+str(j)+\".fits\"\n",
    "        nameCamsci= pathToData+\"camsci\"+experimentName+\"Mode\"+str(i)+\"AmpNum\"+str(j)+\".fits\"\n",
    "        nameCamtip= pathToData+\"camtip\"+experimentName+\"Mode\"+str(i)+\"AmpNum\"+str(j)+\".fits\"\n",
    "   \n",
    "        #send DM commands\n",
    "        dmCom=mode[i,:,:]*nAmps[j]\n",
    "        dm.write(dmCom.astype(dm.buffer.dtype))  \n",
    "        time.sleep(5)\n",
    "        print(\"Amp=\" , nAmps[j])\n",
    "        print(\"Mode=\",i)\n",
    "        #Take data and save it\n",
    "## Zyla -------------------------------------------\n",
    "        if nImages==1:\n",
    "            zyladata=camzyla.grab_latest()\n",
    "        else:\n",
    "            zyladata=np.squeeze(camzyla.grab_many(nImages))\n",
    "    # Get INDI data        \n",
    "\n",
    "   #Generate Headers     \n",
    "        y=fits.PrimaryHDU(zyladata)\n",
    "        y.header['ExpTime']=camzylaExpTime\n",
    "        y.header['TStamp']=dateStr\n",
    "        y.header['ModAmp']=siglentAmplitude\n",
    "        y.header['ModFreq']=siglentFreq\n",
    "        y.header['FPS']=camzylaFrameRate\n",
    "        y.header['ROIsize']=camzylaROIsize\n",
    "        y.header['nMode']=i\n",
    "        y.header['PokeAmp']=nPoke[j]\n",
    "        y.header['NormPAmp']=nAmps[j]\n",
    "        y.header['ExpName']=experimentName\n",
    "     \n",
    "  #write file      \n",
    "        y.writeto(nameZyla)\n",
    "        time.sleep(2)\n",
    "        print('Finished camzyla')\n",
    "        \n",
    "## Camsci ----------------------------------------------\n",
    "        if nImages==1:\n",
    "            scidata=camsci.grab_latest()\n",
    "        else:\n",
    "            scidata=np.squeeze(camsci.grab_many(nImages))\n",
    "    # Get INDI data        \n",
    "\n",
    "   #Generate Headers     \n",
    "        y=fits.PrimaryHDU(scidata)\n",
    "        y.header['ExpTime']=camsciExpTime\n",
    "        y.header['TStamp']=dateStr\n",
    "        y.header['ModAmp']=siglentAmplitude\n",
    "        y.header['ModFreq']=siglentFreq\n",
    "        y.header['nMode']= i\n",
    "        y.header['PokeAmp']=nPoke[j]\n",
    "        y.header['NormPAmp']=nAmps[j]\n",
    "        y.header['ExpName']=experimentName\n",
    "     \n",
    "  #write file      \n",
    "        y.writeto(nameCamsci)\n",
    "        time.sleep(2)\n",
    "        print('Finished camsci')\n",
    "        \n",
    "## Camtip ----------------------------------------------\n",
    "        if nImages==1:\n",
    "            tipdata=camtip.grab_latest()\n",
    "        else:\n",
    "            tipdata=np.squeeze(camtip.grab_many(nImages))\n",
    "    # Get INDI data        \n",
    "\n",
    "   #Generate Headers     \n",
    "        y=fits.PrimaryHDU(tipdata)\n",
    "        y.header['ExpTime']=camtipExpTime\n",
    "        y.header['TStamp']=dateStr\n",
    "        y.header['ModAmp']=siglentAmplitude\n",
    "        y.header['ModFreq']=siglentFreq\n",
    "        y.header['nMode']= i\n",
    "        y.header['PokeAmp']=nPoke[j]\n",
    "        y.header['NormPAmp']=nAmps[j]\n",
    "        y.header['ExpName']=experimentName\n",
    "     \n",
    "  #write file      \n",
    "        y.writeto(nameCamtip)\n",
    "        time.sleep(2)\n",
    "        print('Finished camtip')\n",
    "\n",
    "\n",
    "print('Finished Experiment')    "
   ]
  },
  {
   "cell_type": "code",
   "execution_count": null,
   "metadata": {},
   "outputs": [],
   "source": [
    "camsci.close()\n",
    "camtip.close()\n",
    "camzyla.close()\n",
    "dm.close()"
   ]
  },
  {
   "cell_type": "code",
   "execution_count": 103,
   "metadata": {},
   "outputs": [],
   "source": [
    "np.save('/data/PWFS/linearExp/nAmps.npy',nAmps)\n",
    "np.save('/data/PWFS/linearExp/nPoke.npy', nPoke)\n",
    "np.save('/data/PWFS/linearExp/modes.npy', mode)\n",
    "np.save('/data/PWFS/linearExp/modeNum.npy', 6)"
   ]
  },
  {
   "cell_type": "code",
   "execution_count": null,
   "metadata": {},
   "outputs": [],
   "source": []
  }
 ],
 "metadata": {
  "kernelspec": {
   "display_name": "Python 3",
   "language": "python",
   "name": "python3"
  },
  "language_info": {
   "codemirror_mode": {
    "name": "ipython",
    "version": 3
   },
   "file_extension": ".py",
   "mimetype": "text/x-python",
   "name": "python",
   "nbconvert_exporter": "python",
   "pygments_lexer": "ipython3",
   "version": "3.7.6"
  }
 },
 "nbformat": 4,
 "nbformat_minor": 4
}
